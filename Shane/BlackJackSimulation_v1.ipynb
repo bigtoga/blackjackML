{
 "cells": [
  {
   "cell_type": "markdown",
   "metadata": {},
   "source": [
    "##### Inspiration: https://github.com/yiuhyuk/blackjack/blob/master/black_jack.ipynb"
   ]
  },
  {
   "cell_type": "code",
   "execution_count": null,
   "metadata": {},
   "outputs": [],
   "source": []
  },
  {
   "cell_type": "markdown",
   "metadata": {},
   "source": [
    "### Import Dependencies"
   ]
  },
  {
   "cell_type": "code",
   "execution_count": 1,
   "metadata": {},
   "outputs": [],
   "source": [
    "import pandas as pd\n",
    "import numpy as np\n",
    "import random as rd\n",
    "# import matplotlib.pyplot as plt\n",
    "# import seaborn as sns"
   ]
  },
  {
   "cell_type": "markdown",
   "metadata": {},
   "source": [
    "### Define cards in a single deck of playing cards"
   ]
  },
  {
   "cell_type": "code",
   "execution_count": 2,
   "metadata": {},
   "outputs": [],
   "source": [
    "# Basic deck (numeric values only; including Ace but excluding Jack, Queen, King names)\n",
    "deckOfCards = [2, 3, 4, 5, 6, 7, 8, 9, 10, 10, 10, 10, 'A'] * 4\n",
    "\n",
    "# # Basic ddeck (numeric values; including Ace, Jack, Queen, King names)\n",
    "# deckOfCards = [2, 3, 4, 5, 6, 7, 8, 9, 10, 'J', 'Q', 'K', 'A'] * 4\n",
    "\n",
    "# # Complex deck (numeric values; including Ace, Jack, Queen, King names and suits)\n",
    "# deckOfCards = ['2_clubs', '3_clubs', '4_clubs', '5_clubs', '6_clubs', '7_clubs', '8_clubs',\\\n",
    "#                '9_clubs', '10_clubs', 'J_clubs', 'Q_clubs', 'K_clubs', 'A_clubs',\\\n",
    "#                '2_diamonds', '3_diamonds', '4_diamonds', '5_diamonds', '6_diamonds', '7_diamonds', '8_diamonds',\\\n",
    "#                '9_diamonds', '10_diamonds', 'J_diamonds', 'Q_diamonds', 'K_diamonds', 'A_diamonds',\\\n",
    "#                '2_hearts', '3_hearts', '4_hearts', '5_hearts', '6_hearts', '7_hearts', '8_hearts',\\\n",
    "#                '9_hearts', '10_hearts', 'J_hearts', 'Q_hearts', 'K_hearts', 'A_hearts',\\\n",
    "#                '2_spades', '3_spades', '4_spades', '5_spades', '6_spades', '7_spades', '8_spades',\\\n",
    "#                '9_spades', '10_spades', 'J_spades', 'Q_spades', 'K_spades', 'A_spades',\\\n",
    "#               ]"
   ]
  },
  {
   "cell_type": "code",
   "execution_count": 3,
   "metadata": {},
   "outputs": [],
   "source": [
    "# deckOfCards"
   ]
  },
  {
   "cell_type": "markdown",
   "metadata": {},
   "source": [
    "### Define Blackjack: Ace + a single card with face value of 10 (10, Jack, Queen or King)"
   ]
  },
  {
   "cell_type": "code",
   "execution_count": 23,
   "metadata": {},
   "outputs": [],
   "source": [
    "blackjack = set(['A', 10])"
   ]
  },
  {
   "cell_type": "code",
   "execution_count": 24,
   "metadata": {},
   "outputs": [
    {
     "data": {
      "text/plain": [
       "{10, 'A'}"
      ]
     },
     "execution_count": 24,
     "metadata": {},
     "output_type": "execute_result"
    }
   ],
   "source": [
    "# blackjack"
   ]
  },
  {
   "cell_type": "markdown",
   "metadata": {},
   "source": [
    "### Function: Create a deck"
   ]
  },
  {
   "cell_type": "code",
   "execution_count": 25,
   "metadata": {},
   "outputs": [],
   "source": [
    "def createPlayingDeck(deckOfCards, numberOfDecks):\n",
    "    # Empty list holding cards\n",
    "    newDeck = []\n",
    "    \n",
    "    # Loop through number of decks\n",
    "    for i in range(numberOfDecks):\n",
    "        \n",
    "        # Extend newDeck List with a new deck of cards, depending on how many decks are te be used\n",
    "        newDeck.extend(deckOfCards)\n",
    "        \n",
    "    # Shuffle the newly assembled deck of cards\n",
    "#     random.shuffle(newDeck)\n",
    "        \n",
    "    # Shuffle the newly assembled deck of cards 7 times    \n",
    "    for j in range(7):\n",
    "        rd.shuffle(newDeck)\n",
    "#         print('-' * 50)\n",
    "#         print(newDeck)\n",
    "#         print('-' * 50)\n",
    "    \n",
    "    # Return the newly shuffled deck(s) of playing cards to be used\n",
    "    return newDeck"
   ]
  },
  {
   "cell_type": "code",
   "execution_count": 26,
   "metadata": {},
   "outputs": [
    {
     "name": "stdout",
     "output_type": "stream",
     "text": [
      "[6, 9, 10, 10, 10, 10, 2, 3, 10, 4, 10, 2, 3, 5, 'A', 9, 'A', 9, 10, 2, 10, 8, 'A', 4, 7, 9, 4, 8, 7, 10, 4, 10, 'A', 7, 10, 5, 7, 10, 6, 6, 6, 3, 3, 10, 10, 2, 8, 10, 8, 10, 5, 5]\n",
      "52\n"
     ]
    }
   ],
   "source": [
    "# Test the createPlayingDeck\n",
    "print(createPlayingDeck(deckOfCards, 1))\n",
    "print(len(createPlayingDeck(deckOfCards, 1)))"
   ]
  },
  {
   "cell_type": "markdown",
   "metadata": {},
   "source": [
    "### Function: Possible values of the aces within a hand\n",
    "##### no aces = 0; one ace = 1 or 11; two aces = 2 or 12; etc..."
   ]
  },
  {
   "cell_type": "code",
   "execution_count": 10,
   "metadata": {},
   "outputs": [],
   "source": [
    "def possibleAceValues(numberOfAces):\n",
    "    \n",
    "    # if there are no aces, return a list of one value: 0\n",
    "    if numberOfAces == 0:\n",
    "        return [0]\n",
    "    \n",
    "    # return a list of two possible values for the aces in the hand:\n",
    "    # 1st value  = sum of ace(s) if all are to be used as a value of 1;\n",
    "    # 2nd value = sum of ace(s) where first is value of 11 and remainder(s), if applicable, are value of 1\n",
    "    else:\n",
    "        return [numberOfAces, 10 + numberOfAces]\n"
   ]
  },
  {
   "cell_type": "code",
   "execution_count": 11,
   "metadata": {},
   "outputs": [],
   "source": [
    "## Test the possibleAceValues\n",
    "# possibleAceValues(1)"
   ]
  },
  {
   "cell_type": "markdown",
   "metadata": {},
   "source": [
    "### Function: Add up the value of the hand"
   ]
  },
  {
   "cell_type": "code",
   "execution_count": 12,
   "metadata": {},
   "outputs": [],
   "source": [
    "def addCardValues(handOfCards):\n",
    "    # Set number of Aces to zero (loop through below to increase in increments)\n",
    "    numberOfAces = 0\n",
    "    \n",
    "    # Set handSubTotal to zero (loop through below to increase in by card value, when the card isn't an ace)\n",
    "    handSubTotal = 0\n",
    "    \n",
    "    # Loop through each card held within the hand of cards\n",
    "    for card in handOfCards:\n",
    "        \n",
    "        # If card is an ace, then add one to running number of aces within the hand (starting at 0)\n",
    "        if card == 'A':\n",
    "            numberOfAces += 1\n",
    "            \n",
    "        # Otherwise, add face value to the running handSubTotal\n",
    "        else:\n",
    "            handSubTotal += card\n",
    "            \n",
    "    # Create a list of possible values of the ace(s) in the hand by calling possibleAceValues function\n",
    "    possibleAceValueList = possibleAceValues(numberOfAces)\n",
    "    \n",
    "    # Create a list of possible hand total values, using possibleAceValues (at a min, this list is [0])\n",
    "    handFinalTotal = [i + handSubTotal for i in possibleAceValueList if i + handSubTotal <= 21]\n",
    "    \n",
    "    # Evaluate the number of entries within handFinalTotal (possible values) to get hand total\n",
    "    # If not blank (because total was <= 21), then return max possible value\n",
    "    if handFinalTotal != []:\n",
    "        return max(handFinalTotal)\n",
    "    # Otherwise (if it was blank because total > 21), return the min value of possibleAceValueList + handSubTotal\n",
    "    else:\n",
    "        return min(possibleAceValueList) + handSubTotal\n",
    "        "
   ]
  },
  {
   "cell_type": "code",
   "execution_count": 16,
   "metadata": {},
   "outputs": [
    {
     "data": {
      "text/plain": [
       "22"
      ]
     },
     "execution_count": 16,
     "metadata": {},
     "output_type": "execute_result"
    }
   ],
   "source": [
    "## Test the addCardValues, create testHand\n",
    "testHand = [2, 3, 4, 5, 6, 7, 8, 9, 10, 10, 10, 10, 'A']\n",
    "# testHand = [2, 10, 'A']\n",
    "testHand = [7, 9, 6]\n",
    "\n",
    "## Test the addCardValues\n",
    "addCardValues(testHand)"
   ]
  },
  {
   "cell_type": "markdown",
   "metadata": {},
   "source": [
    "### Function: Coin Toss: Hit Me! or Stand.\n",
    "###### (player decides to hit or stand using this function; Head = \"Hit Me!\", Tails = \"Stand.\")"
   ]
  },
  {
   "cell_type": "code",
   "execution_count": 170,
   "metadata": {},
   "outputs": [],
   "source": [
    "def coinTossHitMeOrStand():\n",
    "    coinTossValue = rd.random()\n",
    "    if coinTossValue >= 0.5:\n",
    "#         return \"Heads\"\n",
    "#         return f\"Heads: Hit Me! ({round(coinTossValue,2)})\"\n",
    "        return \"Heads: Hit Me!\"\n",
    "    else:\n",
    "#         return \"Tails\"\n",
    "#         return f\"Tails: Stand. ({round(coinTossValue,2)})\"\n",
    "        return \"Tails: Stand.\"\n",
    "    "
   ]
  },
  {
   "cell_type": "code",
   "execution_count": 171,
   "metadata": {},
   "outputs": [
    {
     "data": {
      "text/plain": [
       "'Heads: Hit Me!'"
      ]
     },
     "execution_count": 171,
     "metadata": {},
     "output_type": "execute_result"
    }
   ],
   "source": [
    "coinTossHitMeOrStand()"
   ]
  },
  {
   "cell_type": "markdown",
   "metadata": {},
   "source": [
    "### Define the number of stacks, players and number of decks to be used"
   ]
  },
  {
   "cell_type": "code",
   "execution_count": 180,
   "metadata": {},
   "outputs": [],
   "source": [
    "numberOfStacks = 10\n",
    "numberOfPlayers = 2\n",
    "numberOfDecks = 2\n",
    "\n",
    "moveToNewStackThreshold = 20"
   ]
  },
  {
   "cell_type": "markdown",
   "metadata": {},
   "source": [
    "### Create empty lists to hold the dealer's hand, player's hand and player's score/results*********"
   ]
  },
  {
   "cell_type": "code",
   "execution_count": 219,
   "metadata": {},
   "outputs": [],
   "source": [
    "# dealersUpCardDealt list holds the dealer's upcard (1st card) dealt for each game, over the course of all games (going through all stacks of cards)\n",
    "dealersUpCardDealt = []\n",
    "\n",
    "# dealersCardsDealt list holds the dealer's cards dealt for each game, over the course of all games (going through all stacks of cards)\n",
    "dealersCardsDealt = []\n",
    "\n",
    "# dealersScore list holds the dealer's scores for each game, over the course of all games (going through all stacks of cards)\n",
    "dealersScores = []\n",
    "\n",
    "# dealersNumberOfCardsDealt list holds the number of cards dealt for each game, over the course of all games (going through all stacks of cards)\n",
    "dealersNumberOfCardsDealt = []\n",
    "\n",
    "# playersCardsDealt list holds the player's cards dealt for each game, over the course of all games (going through all stacks of cards)\n",
    "playersCardsDealt = []\n",
    "\n",
    "# playersScore list holds the players scores for each game, over the course of all games (going through all stacks of cards)\n",
    "playersScores = []\n",
    "\n",
    "# playersNumberOfCardsDealt list holds the number of cards dealt for each game, over the course of all games (going through all stacks of cards)\n",
    "playersNumberOfCardsDealt = []\n",
    "\n",
    "# playersResults list holds the results of each game, over the course of all games (going through all stacks of cards)\n",
    "# -1.0 = Player Loss; 0.0 = Push/Tie; 1.0 = Player Win\n",
    "playersResults = []\n",
    "\n",
    "\n",
    "\n",
    "\n",
    "\n",
    "# Loop through each stack of cards (numberOfStacks; each stack is x decks of cards, or x * numberOfDecks)\n",
    "for stack in range(numberOfStacks):\n",
    "    \n",
    "    # Create cards in current stack (by using createPlayingDeck function)\n",
    "    cardsInStack = createPlayingDeck(deckOfCards, numberOfDecks)\n",
    "    \n",
    "    # While loop: loop through while the number of cards in the current stack remains over the threshold amount\n",
    "    while len(cardsInStack) > moveToNewStackThreshold:\n",
    "        \n",
    "        # Set current round/game result for each player to 0 (Push/Tie); acting as a placeholder, updated later\n",
    "        playerResultsThisRound = np.zeros((1,numberOfPlayers))\n",
    "        \n",
    "        # Set current round/game score for each player to 0; acting as a placeholder, updated later\n",
    "        playerScoreThisRound = np.zeros((1,numberOfPlayers))\n",
    "        \n",
    "        # Setup lists that holds the hands dealt for the dealer and each player\n",
    "        playersHandDealt = [[] for player in range(numberOfPlayers)]\n",
    "        playersScore = [[] for player in range(numberOfPlayers)]\n",
    "        dealersHandDealt = []\n",
    "        \n",
    "        # Start dealing the cards...\n",
    "        # First card for each player...\n",
    "        for player, hand in enumerate(playersHandDealt):\n",
    "            playersHandDealt[player].append(cardsInStack.pop(0))\n",
    "            \n",
    "        # First card for the dealer...\n",
    "        dealersHandDealt.append(cardsInStack.pop(0))\n",
    "        \n",
    "        # Second card for each player...\n",
    "        # First card for each player...\n",
    "        for player, hand in enumerate(playersHandDealt):\n",
    "            playersHandDealt[player].append(cardsInStack.pop(0))\n",
    "            \n",
    "        # Second card for the dealer...\n",
    "        dealersHandDealt.append(cardsInStack.pop(0))\n",
    "        \n",
    "        # Initial check to see if dealer has blackjack (21) after two cards dealt to each player and dealer...\n",
    "        if set(dealersHandDealt) == blackjack:\n",
    "            # Loop through each player's initial two cards dealt...\n",
    "            for player in range(numberOfPlayers):\n",
    "                # Check to see if each player also has blackjack (21)\n",
    "                if set(playersHandDealt[player]) == blackjack:\n",
    "                    # If so, game is a Push/Tie, assign result value of 0\n",
    "                    playerResultsThisRound[0, player] = 0\n",
    "#                     # Assign score value\n",
    "#                     playerScoreThisRound[0, player] = addCardValues(playersHandDealt[player])\n",
    "                # If not, game is a Loss for the player, assign result value of -1\n",
    "                else:\n",
    "                    playerResultsThisRound[0, player] = -1\n",
    "#                     # Assign score value\n",
    "#                     playerScoreThisRound[0, player] = addCardValues(playersHandDealt[player])\n",
    "        \n",
    "        # If dealer does not have blackjack (21) after initial two cards dealt...\n",
    "        else:\n",
    "            # Loop through each player's initial two cards dealt...\n",
    "            for player in range(numberOfPlayers):\n",
    "                # Check to see if each player has blackjack (21)\n",
    "                if set(playersHandDealt[player]) == blackjack:\n",
    "                    # If so, game is a win for that player, assign result value of 1\n",
    "                    playerResultsThisRound[0, player] = 1\n",
    "#                     # Assign score value\n",
    "#                     playerScoreThisRound[0, player] = addCardValues(playersHandDealt[player])\n",
    "                    # If not, player will randomly decide to hit or stand using coin toss function...\n",
    "                    while (coinTossHitMeOrStand() == \"Heads: Hit Me!\"\\\n",
    "                           # And player doesn't currently have 21...\n",
    "                           and addCardValues(playersHandDealt[player]) != 21):\n",
    "                        # Deal another card to the player...\n",
    "                        playersHandDealt[player].append(cardsInStack.pop(0))\n",
    "                        # Check for bust (>21)\n",
    "                        if addCardValues(playersHandDealt[player]) > 21:\n",
    "                            # If not, game is a Loss for the player, assign result value of -1\n",
    "                            playerResultsThisRound[0, player] = -1\n",
    "                            break\n",
    "                            \n",
    "        # Dealer to hit or stand depending on house score\n",
    "        while addCardValues(dealersHandDealt) < 17:\n",
    "            dealersHandDealt.append(cardsInStack.pop(0))\n",
    "        \n",
    "        # Check dealer's final score with the players\n",
    "        if addCardValues(dealersHandDealt) > 21:\n",
    "            for player in range(numberOfPlayers):\n",
    "                if playerResultsThisRound[0, player] != -1:\n",
    "                    playerResultsThisRound[0, player] = 1\n",
    "        else:\n",
    "            for player in range(numberOfPlayers):\n",
    "                if addCardValues(playersHandDealt[player]) == addCardValues(dealersHandDealt):\n",
    "                    playerResultsThisRound[0, player] = 0\n",
    "                elif addCardValues(playersHandDealt[player]) > addCardValues(dealersHandDealt):\n",
    "                    playerResultsThisRound[0, player] = 1\n",
    "                else:\n",
    "                    playerResultsThisRound[0, player] = -1\n",
    "                    \n",
    "        # Append list of hands\n",
    "        \n",
    "        dealersUpCardDealt.append(dealersHandDealt[0])\n",
    "        dealersCardsDealt.append(dealersHandDealt)\n",
    "        dealersScores.append(addCardValues(dealersHandDealt))\n",
    "        dealersNumberOfCardsDealt.append(len(dealersHandDealt))\n",
    "        playersCardsDealt.append(playersHandDealt)\n",
    "#         for player in range(numberOfPlayers):\n",
    "#             playersScore.append(addCardValues(playersHandDealt))\n",
    "#             playersNumberOfCardsDealt.append(len(playersHandDealt))\n",
    "        playersResults.append(list(playerResultsThisRound[0]))\n",
    "                            \n",
    "                \n",
    "                \n",
    "            \n",
    "        \n",
    "        \n",
    "        \n",
    "            \n",
    "            "
   ]
  },
  {
   "cell_type": "code",
   "execution_count": 220,
   "metadata": {},
   "outputs": [
    {
     "data": {
      "text/plain": [
       "[10,\n",
       " 'A',\n",
       " 5,\n",
       " 8,\n",
       " 10,\n",
       " 4,\n",
       " 5,\n",
       " 9,\n",
       " 2,\n",
       " 6,\n",
       " 7,\n",
       " 10,\n",
       " 6,\n",
       " 9,\n",
       " 6,\n",
       " 10,\n",
       " 7,\n",
       " 10,\n",
       " 9,\n",
       " 10,\n",
       " 6,\n",
       " 2,\n",
       " 5,\n",
       " 6,\n",
       " 4,\n",
       " 6,\n",
       " 10,\n",
       " 10,\n",
       " 6,\n",
       " 'A',\n",
       " 4,\n",
       " 8,\n",
       " 5,\n",
       " 3,\n",
       " 10,\n",
       " 10,\n",
       " 9,\n",
       " 9,\n",
       " 6,\n",
       " 2,\n",
       " 3,\n",
       " 6,\n",
       " 9,\n",
       " 10,\n",
       " 4,\n",
       " 10,\n",
       " 2,\n",
       " 10,\n",
       " 'A',\n",
       " 6,\n",
       " 2,\n",
       " 2,\n",
       " 10,\n",
       " 6,\n",
       " 'A',\n",
       " 4,\n",
       " 10,\n",
       " 10,\n",
       " 3,\n",
       " 10,\n",
       " 'A',\n",
       " 6,\n",
       " 10,\n",
       " 9,\n",
       " 2,\n",
       " 6,\n",
       " 3,\n",
       " 5,\n",
       " 3,\n",
       " 5,\n",
       " 7,\n",
       " 10,\n",
       " 3,\n",
       " 10,\n",
       " 10,\n",
       " 9,\n",
       " 9,\n",
       " 3,\n",
       " 4,\n",
       " 5,\n",
       " 'A',\n",
       " 9,\n",
       " 'A',\n",
       " 10,\n",
       " 2,\n",
       " 9,\n",
       " 2,\n",
       " 'A',\n",
       " 10,\n",
       " 3,\n",
       " 5,\n",
       " 2,\n",
       " 2,\n",
       " 2,\n",
       " 3,\n",
       " 10,\n",
       " 10,\n",
       " 9,\n",
       " 8,\n",
       " 5,\n",
       " 10,\n",
       " 7,\n",
       " 4,\n",
       " 10,\n",
       " 2,\n",
       " 6,\n",
       " 9,\n",
       " 'A',\n",
       " 7,\n",
       " 7,\n",
       " 'A',\n",
       " 10,\n",
       " 5,\n",
       " 6,\n",
       " 10,\n",
       " 7,\n",
       " 6,\n",
       " 4,\n",
       " 8,\n",
       " 9,\n",
       " 10,\n",
       " 10,\n",
       " 4]"
      ]
     },
     "execution_count": 220,
     "metadata": {},
     "output_type": "execute_result"
    }
   ],
   "source": [
    "len(dealersUpCardDealt)\n",
    "dealersUpCardDealt"
   ]
  },
  {
   "cell_type": "code",
   "execution_count": 221,
   "metadata": {},
   "outputs": [
    {
     "data": {
      "text/plain": [
       "[[10, 8],\n",
       " ['A', 5, 'A'],\n",
       " [5, 7, 7],\n",
       " [8, 6, 10],\n",
       " [10, 9],\n",
       " [4, 8, 2, 8],\n",
       " [5, 9, 5],\n",
       " [9, 10],\n",
       " [2, 10, 2, 7],\n",
       " [6, 8, 10],\n",
       " [7, 10],\n",
       " [10, 10],\n",
       " [6, 3, 2, 10],\n",
       " [9, 4, 10],\n",
       " [6, 6, 5],\n",
       " [10, 10],\n",
       " [7, 4, 10],\n",
       " [10, 7],\n",
       " [9, 4, 2, 5],\n",
       " [10, 8],\n",
       " [6, 3, 7, 10],\n",
       " [2, 6, 3, 10],\n",
       " [5, 5, 6, 5],\n",
       " [6, 10, 2],\n",
       " [4, 9, 10],\n",
       " [6, 5, 4, 4],\n",
       " [10, 6, 10],\n",
       " [10, 10],\n",
       " [6, 'A'],\n",
       " ['A', 9],\n",
       " [4, 10, 7],\n",
       " [8, 2, 4, 9],\n",
       " [5, 6, 5, 9],\n",
       " [3, 10, 5],\n",
       " [10, 10],\n",
       " [10, 10],\n",
       " [9, 10],\n",
       " [9, 2, 2, 7],\n",
       " [6, 2, 10],\n",
       " [2, 'A', 3, 3],\n",
       " [3, 10, 4],\n",
       " [6, 10, 7],\n",
       " [9, 5, 9],\n",
       " [10, 3, 7],\n",
       " [4, 4, 8, 9],\n",
       " [10, 10],\n",
       " [2, 7, 6, 3],\n",
       " [10, 10],\n",
       " ['A', 10],\n",
       " [6, 7, 9],\n",
       " [2, 5, 3, 10],\n",
       " [2, 9, 5, 5],\n",
       " [10, 'A'],\n",
       " [6, 8, 2, 10],\n",
       " ['A', 10],\n",
       " [4, 7, 2, 8],\n",
       " [10, 2, 10],\n",
       " [10, 'A'],\n",
       " [3, 9, 7],\n",
       " [10, 10],\n",
       " ['A', 4, 7, 10],\n",
       " [6, 10, 9],\n",
       " [10, 4, 4],\n",
       " [9, 2, 6],\n",
       " [2, 10, 10],\n",
       " [6, 'A'],\n",
       " [3, 6, 8],\n",
       " [5, 4, 5, 10],\n",
       " [3, 8, 10],\n",
       " [5, 7, 5],\n",
       " [7, 5, 10],\n",
       " [10, 7],\n",
       " [3, 7, 5, 10],\n",
       " [10, 10],\n",
       " [10, 2, 10],\n",
       " [9, 4, 6],\n",
       " [9, 8],\n",
       " [3, 2, 6, 10],\n",
       " [4, 9, 4],\n",
       " [5, 4, 2, 10],\n",
       " ['A', 5, 9, 3],\n",
       " [9, 5, 10],\n",
       " ['A', 10],\n",
       " [10, 7],\n",
       " [2, 2, 'A', 5],\n",
       " [9, 10],\n",
       " [2, 8, 5, 7],\n",
       " ['A', 9],\n",
       " [10, 10],\n",
       " [3, 10, 6],\n",
       " [5, 10, 4],\n",
       " [2, 7, 'A'],\n",
       " [2, 2, 10, 8],\n",
       " [2, 2, 6, 'A'],\n",
       " [3, 'A', 9, 'A', 7],\n",
       " [10, 10],\n",
       " [10, 9],\n",
       " [9, 4, 8],\n",
       " [8, 4, 5],\n",
       " [5, 6, 4, 'A', 4],\n",
       " [10, 10],\n",
       " [7, 3, 7],\n",
       " [4, 9, 6],\n",
       " [10, 3, 4],\n",
       " [2, 3, 6, 10],\n",
       " [6, 7, 10],\n",
       " [9, 5, 10],\n",
       " ['A', 4, 10, 10],\n",
       " [7, 10],\n",
       " [7, 2, 9],\n",
       " ['A', 'A', 9],\n",
       " [10, 5, 2],\n",
       " [5, 'A', 3],\n",
       " [6, 6, 8],\n",
       " [10, 10],\n",
       " [7, 8, 'A', 5],\n",
       " [6, 8, 10],\n",
       " [4, 9, 7],\n",
       " [8, 3, 5, 10],\n",
       " [9, 7, 10],\n",
       " [10, 9],\n",
       " [10, 7],\n",
       " [4, 10, 2, 4]]"
      ]
     },
     "execution_count": 221,
     "metadata": {},
     "output_type": "execute_result"
    }
   ],
   "source": [
    "len(dealersCardsDealt)\n",
    "dealersCardsDealt"
   ]
  },
  {
   "cell_type": "code",
   "execution_count": 222,
   "metadata": {},
   "outputs": [
    {
     "data": {
      "text/plain": [
       "[18,\n",
       " 17,\n",
       " 19,\n",
       " 24,\n",
       " 19,\n",
       " 22,\n",
       " 19,\n",
       " 19,\n",
       " 21,\n",
       " 24,\n",
       " 17,\n",
       " 20,\n",
       " 21,\n",
       " 23,\n",
       " 17,\n",
       " 20,\n",
       " 21,\n",
       " 17,\n",
       " 20,\n",
       " 18,\n",
       " 26,\n",
       " 21,\n",
       " 21,\n",
       " 18,\n",
       " 23,\n",
       " 19,\n",
       " 26,\n",
       " 20,\n",
       " 17,\n",
       " 20,\n",
       " 21,\n",
       " 23,\n",
       " 25,\n",
       " 18,\n",
       " 20,\n",
       " 20,\n",
       " 19,\n",
       " 20,\n",
       " 18,\n",
       " 19,\n",
       " 17,\n",
       " 23,\n",
       " 23,\n",
       " 20,\n",
       " 25,\n",
       " 20,\n",
       " 18,\n",
       " 20,\n",
       " 21,\n",
       " 22,\n",
       " 20,\n",
       " 21,\n",
       " 21,\n",
       " 26,\n",
       " 21,\n",
       " 21,\n",
       " 22,\n",
       " 21,\n",
       " 19,\n",
       " 20,\n",
       " 22,\n",
       " 25,\n",
       " 18,\n",
       " 17,\n",
       " 22,\n",
       " 17,\n",
       " 17,\n",
       " 24,\n",
       " 21,\n",
       " 17,\n",
       " 22,\n",
       " 17,\n",
       " 25,\n",
       " 20,\n",
       " 22,\n",
       " 19,\n",
       " 17,\n",
       " 21,\n",
       " 17,\n",
       " 21,\n",
       " 18,\n",
       " 24,\n",
       " 21,\n",
       " 17,\n",
       " 20,\n",
       " 19,\n",
       " 22,\n",
       " 20,\n",
       " 20,\n",
       " 19,\n",
       " 19,\n",
       " 20,\n",
       " 22,\n",
       " 21,\n",
       " 21,\n",
       " 20,\n",
       " 19,\n",
       " 21,\n",
       " 17,\n",
       " 20,\n",
       " 20,\n",
       " 17,\n",
       " 19,\n",
       " 17,\n",
       " 21,\n",
       " 23,\n",
       " 24,\n",
       " 25,\n",
       " 17,\n",
       " 18,\n",
       " 21,\n",
       " 17,\n",
       " 19,\n",
       " 20,\n",
       " 20,\n",
       " 21,\n",
       " 24,\n",
       " 20,\n",
       " 26,\n",
       " 26,\n",
       " 19,\n",
       " 17,\n",
       " 20]"
      ]
     },
     "execution_count": 222,
     "metadata": {},
     "output_type": "execute_result"
    }
   ],
   "source": [
    "len(dealersScores)\n",
    "dealersScores"
   ]
  },
  {
   "cell_type": "code",
   "execution_count": 223,
   "metadata": {},
   "outputs": [
    {
     "data": {
      "text/plain": [
       "[2,\n",
       " 3,\n",
       " 3,\n",
       " 3,\n",
       " 2,\n",
       " 4,\n",
       " 3,\n",
       " 2,\n",
       " 4,\n",
       " 3,\n",
       " 2,\n",
       " 2,\n",
       " 4,\n",
       " 3,\n",
       " 3,\n",
       " 2,\n",
       " 3,\n",
       " 2,\n",
       " 4,\n",
       " 2,\n",
       " 4,\n",
       " 4,\n",
       " 4,\n",
       " 3,\n",
       " 3,\n",
       " 4,\n",
       " 3,\n",
       " 2,\n",
       " 2,\n",
       " 2,\n",
       " 3,\n",
       " 4,\n",
       " 4,\n",
       " 3,\n",
       " 2,\n",
       " 2,\n",
       " 2,\n",
       " 4,\n",
       " 3,\n",
       " 4,\n",
       " 3,\n",
       " 3,\n",
       " 3,\n",
       " 3,\n",
       " 4,\n",
       " 2,\n",
       " 4,\n",
       " 2,\n",
       " 2,\n",
       " 3,\n",
       " 4,\n",
       " 4,\n",
       " 2,\n",
       " 4,\n",
       " 2,\n",
       " 4,\n",
       " 3,\n",
       " 2,\n",
       " 3,\n",
       " 2,\n",
       " 4,\n",
       " 3,\n",
       " 3,\n",
       " 3,\n",
       " 3,\n",
       " 2,\n",
       " 3,\n",
       " 4,\n",
       " 3,\n",
       " 3,\n",
       " 3,\n",
       " 2,\n",
       " 4,\n",
       " 2,\n",
       " 3,\n",
       " 3,\n",
       " 2,\n",
       " 4,\n",
       " 3,\n",
       " 4,\n",
       " 4,\n",
       " 3,\n",
       " 2,\n",
       " 2,\n",
       " 4,\n",
       " 2,\n",
       " 4,\n",
       " 2,\n",
       " 2,\n",
       " 3,\n",
       " 3,\n",
       " 3,\n",
       " 4,\n",
       " 4,\n",
       " 5,\n",
       " 2,\n",
       " 2,\n",
       " 3,\n",
       " 3,\n",
       " 5,\n",
       " 2,\n",
       " 3,\n",
       " 3,\n",
       " 3,\n",
       " 4,\n",
       " 3,\n",
       " 3,\n",
       " 4,\n",
       " 2,\n",
       " 3,\n",
       " 3,\n",
       " 3,\n",
       " 3,\n",
       " 3,\n",
       " 2,\n",
       " 4,\n",
       " 3,\n",
       " 3,\n",
       " 4,\n",
       " 3,\n",
       " 2,\n",
       " 2,\n",
       " 4]"
      ]
     },
     "execution_count": 223,
     "metadata": {},
     "output_type": "execute_result"
    }
   ],
   "source": [
    "len(dealersNumberOfCardsDealt)\n",
    "dealersNumberOfCardsDealt"
   ]
  },
  {
   "cell_type": "code",
   "execution_count": 224,
   "metadata": {},
   "outputs": [
    {
     "data": {
      "text/plain": [
       "[[[5, 6], [10, 10]],\n",
       " [[10, 3], [5, 10]],\n",
       " [[9, 'A'], [3, 10]],\n",
       " [[10, 10], [9, 'A']],\n",
       " [[10, 4], [10, 4]],\n",
       " [['A', 3], [9, 6]],\n",
       " [[8, 4], [4, 8]],\n",
       " [[4, 3], [9, 4]],\n",
       " [[9, 6], [10, 3]],\n",
       " [['A', 10], [10, 10]],\n",
       " [[2, 10], [10, 10]],\n",
       " [[10, 10], [10, 2]],\n",
       " [[3, 7], [5, 10]],\n",
       " [['A', 2], ['A', 10]],\n",
       " [['A', 6], [6, 8]],\n",
       " [[8, 10], [10, 10]],\n",
       " [[10, 9], [8, 4]],\n",
       " [[10, 7], [4, 4]],\n",
       " [[3, 2], [3, 8]],\n",
       " [[7, 10], ['A', 8]],\n",
       " [[9, 'A'], [3, 10]],\n",
       " [[8, 7], [10, 3]],\n",
       " [[10, 3], [10, 'A']],\n",
       " [[5, 8], [10, 9]],\n",
       " [[2, 'A'], [2, 5]],\n",
       " [['A', 7], [8, 10]],\n",
       " [[3, 8], [10, 10]],\n",
       " [[10, 10], [3, 10]],\n",
       " [[3, 10], [10, 6]],\n",
       " [[9, 3], [8, 8]],\n",
       " [[10, 10], [7, 10]],\n",
       " [[9, 10], [9, 4]],\n",
       " [[10, 7], [7, 3]],\n",
       " [[8, 5], [7, 6]],\n",
       " [[8, 'A'], ['A', 6]],\n",
       " [[2, 10], [5, 'A']],\n",
       " [[5, 5], [4, 8]],\n",
       " [[4, 4], ['A', 10]],\n",
       " [[10, 10], [7, 10]],\n",
       " [[2, 5], [10, 8]],\n",
       " [[10, 4], [6, 6]],\n",
       " [[10, 5], [10, 7]],\n",
       " [[8, 9], [8, 5]],\n",
       " [[10, 'A'], [10, 4]],\n",
       " [[7, 4], [4, 10]],\n",
       " [[6, 6], [10, 'A']],\n",
       " [[9, 10], [10, 'A']],\n",
       " [[8, 'A'], [2, 2]],\n",
       " [[10, 8], ['A', 9]],\n",
       " [[4, 8], [3, 10]],\n",
       " [['A', 10], [9, 9]],\n",
       " [[6, 4], [8, 5]],\n",
       " [[6, 10], [3, 9]],\n",
       " [[6, 3], [6, 4]],\n",
       " [[10, 10], [10, 10]],\n",
       " [[6, 10], [5, 2]],\n",
       " [[3, 7], ['A', 6]],\n",
       " [[4, 9], ['A', 5]],\n",
       " [[4, 10], [8, 7]],\n",
       " [[10, 3], [10, 10]],\n",
       " [[3, 7], [7, 8]],\n",
       " [[8, 10], [8, 5]],\n",
       " [[10, 10], [9, 10]],\n",
       " [[10, 'A'], [4, 4]],\n",
       " [[10, 10], ['A', 9]],\n",
       " [[4, 8], ['A', 9]],\n",
       " [[7, 4], [10, 'A']],\n",
       " [[10, 3], [10, 8]],\n",
       " [['A', 3], [2, 7]],\n",
       " [[9, 6], ['A', 6]],\n",
       " [[6, 10], [9, 10]],\n",
       " [[7, 3], [8, 2]],\n",
       " [[6, 3], [9, 10]],\n",
       " [['A', 10], [2, 3]],\n",
       " [[2, 10], [10, 9]],\n",
       " [['A', 'A'], [7, 3]],\n",
       " [[10, 10], [7, 10]],\n",
       " [[10, 10], [8, 9]],\n",
       " [[4, 'A'], [10, 5]],\n",
       " [[4, 10], [10, 2]],\n",
       " [[3, 10], [9, 6]],\n",
       " [[10, 10], ['A', 10]],\n",
       " [[5, 8], [10, 'A']],\n",
       " [[8, 4], [10, 6]],\n",
       " [[10, 10], [10, 10]],\n",
       " [[6, 10], [3, 3]],\n",
       " [[5, 8], [6, 7]],\n",
       " [[10, 10], [3, 6]],\n",
       " [[8, 2], [3, 5]],\n",
       " [[9, 7], [6, 7]],\n",
       " [[10, 'A'], [6, 3]],\n",
       " [[6, 10], [7, 2]],\n",
       " [[6, 3], [5, 'A']],\n",
       " [[8, 10], [4, 8]],\n",
       " [[10, 10], [4, 10]],\n",
       " [[10, 10], [9, 'A']],\n",
       " [[5, 10], [10, 10]],\n",
       " [[5, 4], [7, 4]],\n",
       " [[5, 10], [10, 6]],\n",
       " [[10, 5], [8, 2]],\n",
       " [[10, 3], [8, 8]],\n",
       " [[8, 9], [5, 'A']],\n",
       " [[2, 'A'], [10, 4]],\n",
       " [[2, 5], [4, 10]],\n",
       " [[5, 10], [5, 10]],\n",
       " [[10, 6], [2, 9]],\n",
       " [[10, 10], [9, 3]],\n",
       " [['A', 6], [8, 7]],\n",
       " [[10, 10], [10, 10]],\n",
       " [[4, 'A'], [8, 10]],\n",
       " [[10, 8], [2, 3]],\n",
       " [[10, 10], [10, 2]],\n",
       " [[10, 6], ['A', 'A']],\n",
       " [[10, 10], [2, 4]],\n",
       " [[9, 10], [2, 10]],\n",
       " [[6, 10], [5, 'A']],\n",
       " [[7, 10], [10, 3]],\n",
       " [[2, 'A'], [7, 8]],\n",
       " [[5, 9], ['A', 5]],\n",
       " [[5, 9], [4, 10]],\n",
       " [[4, 'A'], [4, 3]],\n",
       " [[7, 2], [3, 10]],\n",
       " [[10, 10], [8, 10]]]"
      ]
     },
     "execution_count": 224,
     "metadata": {},
     "output_type": "execute_result"
    }
   ],
   "source": [
    "len(playersCardsDealt)\n",
    "playersCardsDealt"
   ]
  },
  {
   "cell_type": "code",
   "execution_count": 225,
   "metadata": {},
   "outputs": [
    {
     "data": {
      "text/plain": [
       "[[-1.0, 1.0],\n",
       " [-1.0, -1.0],\n",
       " [1.0, -1.0],\n",
       " [1.0, 1.0],\n",
       " [-1.0, -1.0],\n",
       " [1.0, 1.0],\n",
       " [-1.0, -1.0],\n",
       " [-1.0, -1.0],\n",
       " [-1.0, -1.0],\n",
       " [1.0, 1.0],\n",
       " [-1.0, 1.0],\n",
       " [0.0, -1.0],\n",
       " [-1.0, -1.0],\n",
       " [1.0, 1.0],\n",
       " [0.0, -1.0],\n",
       " [-1.0, 0.0],\n",
       " [-1.0, -1.0],\n",
       " [0.0, -1.0],\n",
       " [-1.0, -1.0],\n",
       " [-1.0, 1.0],\n",
       " [1.0, 1.0],\n",
       " [-1.0, -1.0],\n",
       " [-1.0, 0.0],\n",
       " [-1.0, 1.0],\n",
       " [1.0, 1.0],\n",
       " [-1.0, -1.0],\n",
       " [1.0, 1.0],\n",
       " [0.0, -1.0],\n",
       " [-1.0, -1.0],\n",
       " [-1.0, -1.0],\n",
       " [-1.0, -1.0],\n",
       " [1.0, 1.0],\n",
       " [1.0, 1.0],\n",
       " [-1.0, -1.0],\n",
       " [-1.0, -1.0],\n",
       " [-1.0, -1.0],\n",
       " [-1.0, -1.0],\n",
       " [-1.0, 1.0],\n",
       " [1.0, -1.0],\n",
       " [-1.0, -1.0],\n",
       " [-1.0, -1.0],\n",
       " [1.0, 1.0],\n",
       " [1.0, 1.0],\n",
       " [1.0, -1.0],\n",
       " [1.0, 1.0],\n",
       " [-1.0, 1.0],\n",
       " [1.0, 1.0],\n",
       " [-1.0, -1.0],\n",
       " [-1.0, -1.0],\n",
       " [1.0, 1.0],\n",
       " [1.0, -1.0],\n",
       " [-1.0, -1.0],\n",
       " [-1.0, -1.0],\n",
       " [1.0, 1.0],\n",
       " [-1.0, -1.0],\n",
       " [-1.0, -1.0],\n",
       " [1.0, 1.0],\n",
       " [-1.0, -1.0],\n",
       " [-1.0, -1.0],\n",
       " [-1.0, 0.0],\n",
       " [1.0, 1.0],\n",
       " [1.0, 1.0],\n",
       " [1.0, 1.0],\n",
       " [1.0, -1.0],\n",
       " [1.0, 1.0],\n",
       " [-1.0, 1.0],\n",
       " [-1.0, 1.0],\n",
       " [1.0, 1.0],\n",
       " [-1.0, -1.0],\n",
       " [-1.0, 0.0],\n",
       " [1.0, 1.0],\n",
       " [-1.0, -1.0],\n",
       " [1.0, 1.0],\n",
       " [1.0, -1.0],\n",
       " [1.0, 1.0],\n",
       " [-1.0, -1.0],\n",
       " [1.0, 0.0],\n",
       " [-1.0, -1.0],\n",
       " [-1.0, -1.0],\n",
       " [-1.0, -1.0],\n",
       " [-1.0, -1.0],\n",
       " [1.0, 1.0],\n",
       " [-1.0, 0.0],\n",
       " [-1.0, -1.0],\n",
       " [0.0, 0.0],\n",
       " [-1.0, -1.0],\n",
       " [1.0, 1.0],\n",
       " [0.0, -1.0],\n",
       " [-1.0, -1.0],\n",
       " [-1.0, -1.0],\n",
       " [1.0, -1.0],\n",
       " [-1.0, -1.0],\n",
       " [1.0, 1.0],\n",
       " [-1.0, -1.0],\n",
       " [-1.0, -1.0],\n",
       " [0.0, 0.0],\n",
       " [-1.0, 1.0],\n",
       " [-1.0, -1.0],\n",
       " [-1.0, -1.0],\n",
       " [-1.0, -1.0],\n",
       " [-1.0, -1.0],\n",
       " [0.0, -1.0],\n",
       " [-1.0, -1.0],\n",
       " [-1.0, -1.0],\n",
       " [-1.0, -1.0],\n",
       " [1.0, 1.0],\n",
       " [1.0, 1.0],\n",
       " [1.0, 1.0],\n",
       " [1.0, 1.0],\n",
       " [-1.0, 0.0],\n",
       " [-1.0, -1.0],\n",
       " [1.0, -1.0],\n",
       " [-1.0, -1.0],\n",
       " [0.0, -1.0],\n",
       " [-1.0, -1.0],\n",
       " [-1.0, -1.0],\n",
       " [1.0, 1.0],\n",
       " [-1.0, -1.0],\n",
       " [1.0, 1.0],\n",
       " [1.0, 1.0],\n",
       " [-1.0, -1.0],\n",
       " [-1.0, -1.0],\n",
       " [0.0, -1.0]]"
      ]
     },
     "execution_count": 225,
     "metadata": {},
     "output_type": "execute_result"
    }
   ],
   "source": [
    "len(playersResults)\n",
    "playersResults"
   ]
  },
  {
   "cell_type": "code",
   "execution_count": null,
   "metadata": {},
   "outputs": [],
   "source": []
  },
  {
   "cell_type": "code",
   "execution_count": null,
   "metadata": {},
   "outputs": [],
   "source": []
  },
  {
   "cell_type": "code",
   "execution_count": 63,
   "metadata": {},
   "outputs": [],
   "source": [
    "# Create cards in current stack (by using createPlayingDeck function)\n",
    "cardsInStack = createPlayingDeck(deckOfCards, numberOfDecks)\n",
    "\n",
    "# While loop: loop through while the number of cards in the current stack remains over the threshold amount\n",
    "while len(cardsInStack) > moveToNewStackThreshold:\n",
    "\n",
    "    # Set current round/game result for each player to 0 (Push/Tie); acting as a placeholder, updated later\n",
    "    playerResultsThisRound = np.zeros((1,numberOfPlayers))\n",
    "\n",
    "    # Setup lists that holds the hands dealt for the dealer and each player\n",
    "    playersHandDealt = [[] for player in range(numberOfPlayers)]\n",
    "    dealersHandDealt = []\n",
    "\n",
    "    # Start dealing the cards...\n",
    "    # First card for each player...\n",
    "    for player, hand in enumerate(playersHandDealt):\n",
    "        playersHandDealt[player].append(cardsInStack.pop(0))\n",
    "\n",
    "    # First card for the dealer...\n",
    "    dealersHandDealt.append(cardsInStack.pop(0))"
   ]
  },
  {
   "cell_type": "code",
   "execution_count": 64,
   "metadata": {},
   "outputs": [
    {
     "data": {
      "text/plain": [
       "20"
      ]
     },
     "execution_count": 64,
     "metadata": {},
     "output_type": "execute_result"
    }
   ],
   "source": [
    "len(cardsInStack)\n",
    "# playerResultsThisRound\n",
    "# playersHandDealt\n",
    "# dealersHandDealt"
   ]
  },
  {
   "cell_type": "code",
   "execution_count": 41,
   "metadata": {},
   "outputs": [
    {
     "data": {
      "text/plain": [
       "[[], []]"
      ]
     },
     "execution_count": 41,
     "metadata": {},
     "output_type": "execute_result"
    }
   ],
   "source": [
    "np.zeros((1,4))\n",
    "\n",
    "# playersHandDealt = [[] for player in range(numberOfPlayers)]\n",
    "playersHandDealt = [[] for player in range(2)]\n",
    "playersHandDealt\n",
    "\n",
    "# Deal FIRST card for each\n",
    "for player, hand in enumerate(playersHandDealt):\n",
    "    player_hands[player].append(dealer_cards.pop(0))\n",
    "dealer_hand.append(dealer_cards.pop(0))"
   ]
  },
  {
   "cell_type": "code",
   "execution_count": 18,
   "metadata": {},
   "outputs": [
    {
     "data": {
      "text/plain": [
       "'-------------------------'"
      ]
     },
     "execution_count": 18,
     "metadata": {},
     "output_type": "execute_result"
    }
   ],
   "source": [
    "'-' * 25"
   ]
  },
  {
   "cell_type": "code",
   "execution_count": 85,
   "metadata": {},
   "outputs": [
    {
     "data": {
      "text/plain": [
       "0.9913821824009557"
      ]
     },
     "execution_count": 85,
     "metadata": {},
     "output_type": "execute_result"
    }
   ],
   "source": [
    "rd.random()"
   ]
  },
  {
   "cell_type": "code",
   "execution_count": 71,
   "metadata": {},
   "outputs": [
    {
     "name": "stdout",
     "output_type": "stream",
     "text": [
      "Return type: <class 'enumerate'>\n",
      "[(0, 'eat'), (1, 'sleep'), (2, 'repeat')]\n",
      "[(2, 'g'), (3, 'e'), (4, 'e'), (5, 'k')]\n"
     ]
    }
   ],
   "source": [
    "# Python program to illustrate \n",
    "# enumerate function \n",
    "l1 = [\"eat\",\"sleep\",\"repeat\"] \n",
    "s1 = \"geek\"\n",
    "  \n",
    "# creating enumerate objects \n",
    "obj1 = enumerate(l1) \n",
    "obj2 = enumerate(s1) \n",
    "  \n",
    "print (f\"Return type: {type(obj1)}\")\n",
    "print (list(enumerate(l1)) )\n",
    "  \n",
    "# changing start index to 2 from 0 \n",
    "print (list(enumerate(s1,2)) )\n"
   ]
  },
  {
   "cell_type": "markdown",
   "metadata": {},
   "source": [
    "### xxXXXxx"
   ]
  },
  {
   "cell_type": "markdown",
   "metadata": {},
   "source": [
    "### xxXXXxx"
   ]
  },
  {
   "cell_type": "markdown",
   "metadata": {},
   "source": [
    "### xxXXXxx"
   ]
  },
  {
   "cell_type": "markdown",
   "metadata": {},
   "source": [
    "### xxXXXxx"
   ]
  },
  {
   "cell_type": "markdown",
   "metadata": {},
   "source": [
    "### xxXXXxx"
   ]
  },
  {
   "cell_type": "markdown",
   "metadata": {},
   "source": [
    "### xxXXXxx"
   ]
  },
  {
   "cell_type": "markdown",
   "metadata": {},
   "source": [
    "### xxXXXxx"
   ]
  },
  {
   "cell_type": "markdown",
   "metadata": {},
   "source": [
    "### xxXXXxx"
   ]
  },
  {
   "cell_type": "markdown",
   "metadata": {},
   "source": [
    "### xxXXXxx"
   ]
  },
  {
   "cell_type": "markdown",
   "metadata": {},
   "source": [
    "### xxXXXxx"
   ]
  },
  {
   "cell_type": "markdown",
   "metadata": {},
   "source": [
    "### xxXXXxx"
   ]
  },
  {
   "cell_type": "markdown",
   "metadata": {},
   "source": [
    "### xxXXXxx"
   ]
  },
  {
   "cell_type": "markdown",
   "metadata": {},
   "source": [
    "### xxXXXxx"
   ]
  },
  {
   "cell_type": "markdown",
   "metadata": {},
   "source": [
    "### xxXXXxx"
   ]
  },
  {
   "cell_type": "code",
   "execution_count": null,
   "metadata": {},
   "outputs": [],
   "source": []
  }
 ],
 "metadata": {
  "kernelspec": {
   "display_name": "Python 3",
   "language": "python",
   "name": "python3"
  },
  "language_info": {
   "codemirror_mode": {
    "name": "ipython",
    "version": 3
   },
   "file_extension": ".py",
   "mimetype": "text/x-python",
   "name": "python",
   "nbconvert_exporter": "python",
   "pygments_lexer": "ipython3",
   "version": "3.7.4"
  }
 },
 "nbformat": 4,
 "nbformat_minor": 2
}
